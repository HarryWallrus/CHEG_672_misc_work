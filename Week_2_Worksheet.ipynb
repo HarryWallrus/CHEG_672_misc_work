{
  "nbformat": 4,
  "nbformat_minor": 0,
  "metadata": {
    "colab": {
      "provenance": [],
      "authorship_tag": "ABX9TyPwfBQWcrSS2mUG+qaZv8Zl",
      "include_colab_link": true
    },
    "kernelspec": {
      "name": "python3",
      "display_name": "Python 3"
    },
    "language_info": {
      "name": "python"
    }
  },
  "cells": [
    {
      "cell_type": "markdown",
      "metadata": {
        "id": "view-in-github",
        "colab_type": "text"
      },
      "source": [
        "<a href=\"https://colab.research.google.com/github/HarryWallrus/CHEG_672_misc_work/blob/main/Week_2_Worksheet.ipynb\" target=\"_parent\"><img src=\"https://colab.research.google.com/assets/colab-badge.svg\" alt=\"Open In Colab\"/></a>"
      ]
    },
    {
      "cell_type": "markdown",
      "source": [
        "Loading the dataset."
      ],
      "metadata": {
        "id": "y3MQudwvYJ0W"
      }
    },
    {
      "cell_type": "code",
      "source": [
        "# Import necessary libraries\n",
        "import pandas as pd\n",
        "from google.colab import files\n",
        "\n",
        "# Upload the file\n",
        "uploaded = files.upload()\n",
        "\n",
        "# Load the dataset\n",
        "file_name = \"Biomass Gasification Dataset.xlsx\"  # Replace with your actual file name\n",
        "df = pd.read_excel(file_name)\n",
        "\n",
        "# Display the first few rows of the dataset\n",
        "df.head()"
      ],
      "metadata": {
        "colab": {
          "base_uri": "https://localhost:8080/",
          "height": 433
        },
        "id": "6P8NvNiBIzcD",
        "outputId": "306a4fc6-ec3a-48d0-ccee-3d284bc8df53"
      },
      "execution_count": null,
      "outputs": [
        {
          "output_type": "display_data",
          "data": {
            "text/plain": [
              "<IPython.core.display.HTML object>"
            ],
            "text/html": [
              "\n",
              "     <input type=\"file\" id=\"files-8c7d2fb2-0177-44f7-81ec-5a04eb8bdfc5\" name=\"files[]\" multiple disabled\n",
              "        style=\"border:none\" />\n",
              "     <output id=\"result-8c7d2fb2-0177-44f7-81ec-5a04eb8bdfc5\">\n",
              "      Upload widget is only available when the cell has been executed in the\n",
              "      current browser session. Please rerun this cell to enable.\n",
              "      </output>\n",
              "      <script>// Copyright 2017 Google LLC\n",
              "//\n",
              "// Licensed under the Apache License, Version 2.0 (the \"License\");\n",
              "// you may not use this file except in compliance with the License.\n",
              "// You may obtain a copy of the License at\n",
              "//\n",
              "//      http://www.apache.org/licenses/LICENSE-2.0\n",
              "//\n",
              "// Unless required by applicable law or agreed to in writing, software\n",
              "// distributed under the License is distributed on an \"AS IS\" BASIS,\n",
              "// WITHOUT WARRANTIES OR CONDITIONS OF ANY KIND, either express or implied.\n",
              "// See the License for the specific language governing permissions and\n",
              "// limitations under the License.\n",
              "\n",
              "/**\n",
              " * @fileoverview Helpers for google.colab Python module.\n",
              " */\n",
              "(function(scope) {\n",
              "function span(text, styleAttributes = {}) {\n",
              "  const element = document.createElement('span');\n",
              "  element.textContent = text;\n",
              "  for (const key of Object.keys(styleAttributes)) {\n",
              "    element.style[key] = styleAttributes[key];\n",
              "  }\n",
              "  return element;\n",
              "}\n",
              "\n",
              "// Max number of bytes which will be uploaded at a time.\n",
              "const MAX_PAYLOAD_SIZE = 100 * 1024;\n",
              "\n",
              "function _uploadFiles(inputId, outputId) {\n",
              "  const steps = uploadFilesStep(inputId, outputId);\n",
              "  const outputElement = document.getElementById(outputId);\n",
              "  // Cache steps on the outputElement to make it available for the next call\n",
              "  // to uploadFilesContinue from Python.\n",
              "  outputElement.steps = steps;\n",
              "\n",
              "  return _uploadFilesContinue(outputId);\n",
              "}\n",
              "\n",
              "// This is roughly an async generator (not supported in the browser yet),\n",
              "// where there are multiple asynchronous steps and the Python side is going\n",
              "// to poll for completion of each step.\n",
              "// This uses a Promise to block the python side on completion of each step,\n",
              "// then passes the result of the previous step as the input to the next step.\n",
              "function _uploadFilesContinue(outputId) {\n",
              "  const outputElement = document.getElementById(outputId);\n",
              "  const steps = outputElement.steps;\n",
              "\n",
              "  const next = steps.next(outputElement.lastPromiseValue);\n",
              "  return Promise.resolve(next.value.promise).then((value) => {\n",
              "    // Cache the last promise value to make it available to the next\n",
              "    // step of the generator.\n",
              "    outputElement.lastPromiseValue = value;\n",
              "    return next.value.response;\n",
              "  });\n",
              "}\n",
              "\n",
              "/**\n",
              " * Generator function which is called between each async step of the upload\n",
              " * process.\n",
              " * @param {string} inputId Element ID of the input file picker element.\n",
              " * @param {string} outputId Element ID of the output display.\n",
              " * @return {!Iterable<!Object>} Iterable of next steps.\n",
              " */\n",
              "function* uploadFilesStep(inputId, outputId) {\n",
              "  const inputElement = document.getElementById(inputId);\n",
              "  inputElement.disabled = false;\n",
              "\n",
              "  const outputElement = document.getElementById(outputId);\n",
              "  outputElement.innerHTML = '';\n",
              "\n",
              "  const pickedPromise = new Promise((resolve) => {\n",
              "    inputElement.addEventListener('change', (e) => {\n",
              "      resolve(e.target.files);\n",
              "    });\n",
              "  });\n",
              "\n",
              "  const cancel = document.createElement('button');\n",
              "  inputElement.parentElement.appendChild(cancel);\n",
              "  cancel.textContent = 'Cancel upload';\n",
              "  const cancelPromise = new Promise((resolve) => {\n",
              "    cancel.onclick = () => {\n",
              "      resolve(null);\n",
              "    };\n",
              "  });\n",
              "\n",
              "  // Wait for the user to pick the files.\n",
              "  const files = yield {\n",
              "    promise: Promise.race([pickedPromise, cancelPromise]),\n",
              "    response: {\n",
              "      action: 'starting',\n",
              "    }\n",
              "  };\n",
              "\n",
              "  cancel.remove();\n",
              "\n",
              "  // Disable the input element since further picks are not allowed.\n",
              "  inputElement.disabled = true;\n",
              "\n",
              "  if (!files) {\n",
              "    return {\n",
              "      response: {\n",
              "        action: 'complete',\n",
              "      }\n",
              "    };\n",
              "  }\n",
              "\n",
              "  for (const file of files) {\n",
              "    const li = document.createElement('li');\n",
              "    li.append(span(file.name, {fontWeight: 'bold'}));\n",
              "    li.append(span(\n",
              "        `(${file.type || 'n/a'}) - ${file.size} bytes, ` +\n",
              "        `last modified: ${\n",
              "            file.lastModifiedDate ? file.lastModifiedDate.toLocaleDateString() :\n",
              "                                    'n/a'} - `));\n",
              "    const percent = span('0% done');\n",
              "    li.appendChild(percent);\n",
              "\n",
              "    outputElement.appendChild(li);\n",
              "\n",
              "    const fileDataPromise = new Promise((resolve) => {\n",
              "      const reader = new FileReader();\n",
              "      reader.onload = (e) => {\n",
              "        resolve(e.target.result);\n",
              "      };\n",
              "      reader.readAsArrayBuffer(file);\n",
              "    });\n",
              "    // Wait for the data to be ready.\n",
              "    let fileData = yield {\n",
              "      promise: fileDataPromise,\n",
              "      response: {\n",
              "        action: 'continue',\n",
              "      }\n",
              "    };\n",
              "\n",
              "    // Use a chunked sending to avoid message size limits. See b/62115660.\n",
              "    let position = 0;\n",
              "    do {\n",
              "      const length = Math.min(fileData.byteLength - position, MAX_PAYLOAD_SIZE);\n",
              "      const chunk = new Uint8Array(fileData, position, length);\n",
              "      position += length;\n",
              "\n",
              "      const base64 = btoa(String.fromCharCode.apply(null, chunk));\n",
              "      yield {\n",
              "        response: {\n",
              "          action: 'append',\n",
              "          file: file.name,\n",
              "          data: base64,\n",
              "        },\n",
              "      };\n",
              "\n",
              "      let percentDone = fileData.byteLength === 0 ?\n",
              "          100 :\n",
              "          Math.round((position / fileData.byteLength) * 100);\n",
              "      percent.textContent = `${percentDone}% done`;\n",
              "\n",
              "    } while (position < fileData.byteLength);\n",
              "  }\n",
              "\n",
              "  // All done.\n",
              "  yield {\n",
              "    response: {\n",
              "      action: 'complete',\n",
              "    }\n",
              "  };\n",
              "}\n",
              "\n",
              "scope.google = scope.google || {};\n",
              "scope.google.colab = scope.google.colab || {};\n",
              "scope.google.colab._files = {\n",
              "  _uploadFiles,\n",
              "  _uploadFilesContinue,\n",
              "};\n",
              "})(self);\n",
              "</script> "
            ]
          },
          "metadata": {}
        },
        {
          "output_type": "stream",
          "name": "stdout",
          "text": [
            "Saving Biomass Gasification Dataset.xlsx to Biomass Gasification Dataset.xlsx\n"
          ]
        },
        {
          "output_type": "execute_result",
          "data": {
            "text/plain": [
              "          feed Type of Feed      C     H     N    S      O  ASH  \\\n",
              "0  Fruit Waste  Orange Peel  41.71  6.04  1.91  0.0  50.34  0.0   \n",
              "1  Fruit Waste  Orange Peel  41.71  6.04  1.91  0.0  50.34  0.0   \n",
              "2  Fruit Waste  Orange Peel  41.71  6.04  1.91  0.0  50.34  0.0   \n",
              "3  Fruit Waste  Orange Peel  41.71  6.04  1.91  0.0  50.34  0.0   \n",
              "4  Fruit Waste  Orange Peel  41.71  6.04  1.91  0.0  50.34  0.0   \n",
              "\n",
              "   C-H Aromatics   C-H  Alkanes  ...  Time    BC  Reactor  Catalyst Type  \\\n",
              "0               1             1  ...    30   5.0    Batch              0   \n",
              "1               1             1  ...    60   5.0    Batch              0   \n",
              "2               1             1  ...    30  15.0    Batch              0   \n",
              "3               1             1  ...    60  15.0    Batch              0   \n",
              "4               1             1  ...    45  10.0    Batch              0   \n",
              "\n",
              "   Catalyst Concentration  CO2 mole fraction  H2 mole fraction  \\\n",
              "0                     0.0              92.37              1.54   \n",
              "1                     0.0              93.00              2.49   \n",
              "2                     0.0              92.50              2.00   \n",
              "3                     0.0              95.27              1.09   \n",
              "4                     0.0              95.35              0.97   \n",
              "\n",
              "  Hydrogen selectivity CO mole fraction  CH4 mole fraction  \n",
              "0             1.564087             5.65               0.42  \n",
              "1             2.553584             4.18               0.33  \n",
              "2             2.040816             4.50               1.00  \n",
              "3             1.102012             2.62               1.00  \n",
              "4             0.979501             3.23               0.45  \n",
              "\n",
              "[5 rows x 25 columns]"
            ],
            "text/html": [
              "\n",
              "  <div id=\"df-3d8bfd06-d8c3-4bec-b82e-389c2ab29610\" class=\"colab-df-container\">\n",
              "    <div>\n",
              "<style scoped>\n",
              "    .dataframe tbody tr th:only-of-type {\n",
              "        vertical-align: middle;\n",
              "    }\n",
              "\n",
              "    .dataframe tbody tr th {\n",
              "        vertical-align: top;\n",
              "    }\n",
              "\n",
              "    .dataframe thead th {\n",
              "        text-align: right;\n",
              "    }\n",
              "</style>\n",
              "<table border=\"1\" class=\"dataframe\">\n",
              "  <thead>\n",
              "    <tr style=\"text-align: right;\">\n",
              "      <th></th>\n",
              "      <th>feed</th>\n",
              "      <th>Type of Feed</th>\n",
              "      <th>C</th>\n",
              "      <th>H</th>\n",
              "      <th>N</th>\n",
              "      <th>S</th>\n",
              "      <th>O</th>\n",
              "      <th>ASH</th>\n",
              "      <th>C-H Aromatics</th>\n",
              "      <th>C-H  Alkanes</th>\n",
              "      <th>...</th>\n",
              "      <th>Time</th>\n",
              "      <th>BC</th>\n",
              "      <th>Reactor</th>\n",
              "      <th>Catalyst Type</th>\n",
              "      <th>Catalyst Concentration</th>\n",
              "      <th>CO2 mole fraction</th>\n",
              "      <th>H2 mole fraction</th>\n",
              "      <th>Hydrogen selectivity</th>\n",
              "      <th>CO mole fraction</th>\n",
              "      <th>CH4 mole fraction</th>\n",
              "    </tr>\n",
              "  </thead>\n",
              "  <tbody>\n",
              "    <tr>\n",
              "      <th>0</th>\n",
              "      <td>Fruit Waste</td>\n",
              "      <td>Orange Peel</td>\n",
              "      <td>41.71</td>\n",
              "      <td>6.04</td>\n",
              "      <td>1.91</td>\n",
              "      <td>0.0</td>\n",
              "      <td>50.34</td>\n",
              "      <td>0.0</td>\n",
              "      <td>1</td>\n",
              "      <td>1</td>\n",
              "      <td>...</td>\n",
              "      <td>30</td>\n",
              "      <td>5.0</td>\n",
              "      <td>Batch</td>\n",
              "      <td>0</td>\n",
              "      <td>0.0</td>\n",
              "      <td>92.37</td>\n",
              "      <td>1.54</td>\n",
              "      <td>1.564087</td>\n",
              "      <td>5.65</td>\n",
              "      <td>0.42</td>\n",
              "    </tr>\n",
              "    <tr>\n",
              "      <th>1</th>\n",
              "      <td>Fruit Waste</td>\n",
              "      <td>Orange Peel</td>\n",
              "      <td>41.71</td>\n",
              "      <td>6.04</td>\n",
              "      <td>1.91</td>\n",
              "      <td>0.0</td>\n",
              "      <td>50.34</td>\n",
              "      <td>0.0</td>\n",
              "      <td>1</td>\n",
              "      <td>1</td>\n",
              "      <td>...</td>\n",
              "      <td>60</td>\n",
              "      <td>5.0</td>\n",
              "      <td>Batch</td>\n",
              "      <td>0</td>\n",
              "      <td>0.0</td>\n",
              "      <td>93.00</td>\n",
              "      <td>2.49</td>\n",
              "      <td>2.553584</td>\n",
              "      <td>4.18</td>\n",
              "      <td>0.33</td>\n",
              "    </tr>\n",
              "    <tr>\n",
              "      <th>2</th>\n",
              "      <td>Fruit Waste</td>\n",
              "      <td>Orange Peel</td>\n",
              "      <td>41.71</td>\n",
              "      <td>6.04</td>\n",
              "      <td>1.91</td>\n",
              "      <td>0.0</td>\n",
              "      <td>50.34</td>\n",
              "      <td>0.0</td>\n",
              "      <td>1</td>\n",
              "      <td>1</td>\n",
              "      <td>...</td>\n",
              "      <td>30</td>\n",
              "      <td>15.0</td>\n",
              "      <td>Batch</td>\n",
              "      <td>0</td>\n",
              "      <td>0.0</td>\n",
              "      <td>92.50</td>\n",
              "      <td>2.00</td>\n",
              "      <td>2.040816</td>\n",
              "      <td>4.50</td>\n",
              "      <td>1.00</td>\n",
              "    </tr>\n",
              "    <tr>\n",
              "      <th>3</th>\n",
              "      <td>Fruit Waste</td>\n",
              "      <td>Orange Peel</td>\n",
              "      <td>41.71</td>\n",
              "      <td>6.04</td>\n",
              "      <td>1.91</td>\n",
              "      <td>0.0</td>\n",
              "      <td>50.34</td>\n",
              "      <td>0.0</td>\n",
              "      <td>1</td>\n",
              "      <td>1</td>\n",
              "      <td>...</td>\n",
              "      <td>60</td>\n",
              "      <td>15.0</td>\n",
              "      <td>Batch</td>\n",
              "      <td>0</td>\n",
              "      <td>0.0</td>\n",
              "      <td>95.27</td>\n",
              "      <td>1.09</td>\n",
              "      <td>1.102012</td>\n",
              "      <td>2.62</td>\n",
              "      <td>1.00</td>\n",
              "    </tr>\n",
              "    <tr>\n",
              "      <th>4</th>\n",
              "      <td>Fruit Waste</td>\n",
              "      <td>Orange Peel</td>\n",
              "      <td>41.71</td>\n",
              "      <td>6.04</td>\n",
              "      <td>1.91</td>\n",
              "      <td>0.0</td>\n",
              "      <td>50.34</td>\n",
              "      <td>0.0</td>\n",
              "      <td>1</td>\n",
              "      <td>1</td>\n",
              "      <td>...</td>\n",
              "      <td>45</td>\n",
              "      <td>10.0</td>\n",
              "      <td>Batch</td>\n",
              "      <td>0</td>\n",
              "      <td>0.0</td>\n",
              "      <td>95.35</td>\n",
              "      <td>0.97</td>\n",
              "      <td>0.979501</td>\n",
              "      <td>3.23</td>\n",
              "      <td>0.45</td>\n",
              "    </tr>\n",
              "  </tbody>\n",
              "</table>\n",
              "<p>5 rows × 25 columns</p>\n",
              "</div>\n",
              "    <div class=\"colab-df-buttons\">\n",
              "\n",
              "  <div class=\"colab-df-container\">\n",
              "    <button class=\"colab-df-convert\" onclick=\"convertToInteractive('df-3d8bfd06-d8c3-4bec-b82e-389c2ab29610')\"\n",
              "            title=\"Convert this dataframe to an interactive table.\"\n",
              "            style=\"display:none;\">\n",
              "\n",
              "  <svg xmlns=\"http://www.w3.org/2000/svg\" height=\"24px\" viewBox=\"0 -960 960 960\">\n",
              "    <path d=\"M120-120v-720h720v720H120Zm60-500h600v-160H180v160Zm220 220h160v-160H400v160Zm0 220h160v-160H400v160ZM180-400h160v-160H180v160Zm440 0h160v-160H620v160ZM180-180h160v-160H180v160Zm440 0h160v-160H620v160Z\"/>\n",
              "  </svg>\n",
              "    </button>\n",
              "\n",
              "  <style>\n",
              "    .colab-df-container {\n",
              "      display:flex;\n",
              "      gap: 12px;\n",
              "    }\n",
              "\n",
              "    .colab-df-convert {\n",
              "      background-color: #E8F0FE;\n",
              "      border: none;\n",
              "      border-radius: 50%;\n",
              "      cursor: pointer;\n",
              "      display: none;\n",
              "      fill: #1967D2;\n",
              "      height: 32px;\n",
              "      padding: 0 0 0 0;\n",
              "      width: 32px;\n",
              "    }\n",
              "\n",
              "    .colab-df-convert:hover {\n",
              "      background-color: #E2EBFA;\n",
              "      box-shadow: 0px 1px 2px rgba(60, 64, 67, 0.3), 0px 1px 3px 1px rgba(60, 64, 67, 0.15);\n",
              "      fill: #174EA6;\n",
              "    }\n",
              "\n",
              "    .colab-df-buttons div {\n",
              "      margin-bottom: 4px;\n",
              "    }\n",
              "\n",
              "    [theme=dark] .colab-df-convert {\n",
              "      background-color: #3B4455;\n",
              "      fill: #D2E3FC;\n",
              "    }\n",
              "\n",
              "    [theme=dark] .colab-df-convert:hover {\n",
              "      background-color: #434B5C;\n",
              "      box-shadow: 0px 1px 3px 1px rgba(0, 0, 0, 0.15);\n",
              "      filter: drop-shadow(0px 1px 2px rgba(0, 0, 0, 0.3));\n",
              "      fill: #FFFFFF;\n",
              "    }\n",
              "  </style>\n",
              "\n",
              "    <script>\n",
              "      const buttonEl =\n",
              "        document.querySelector('#df-3d8bfd06-d8c3-4bec-b82e-389c2ab29610 button.colab-df-convert');\n",
              "      buttonEl.style.display =\n",
              "        google.colab.kernel.accessAllowed ? 'block' : 'none';\n",
              "\n",
              "      async function convertToInteractive(key) {\n",
              "        const element = document.querySelector('#df-3d8bfd06-d8c3-4bec-b82e-389c2ab29610');\n",
              "        const dataTable =\n",
              "          await google.colab.kernel.invokeFunction('convertToInteractive',\n",
              "                                                    [key], {});\n",
              "        if (!dataTable) return;\n",
              "\n",
              "        const docLinkHtml = 'Like what you see? Visit the ' +\n",
              "          '<a target=\"_blank\" href=https://colab.research.google.com/notebooks/data_table.ipynb>data table notebook</a>'\n",
              "          + ' to learn more about interactive tables.';\n",
              "        element.innerHTML = '';\n",
              "        dataTable['output_type'] = 'display_data';\n",
              "        await google.colab.output.renderOutput(dataTable, element);\n",
              "        const docLink = document.createElement('div');\n",
              "        docLink.innerHTML = docLinkHtml;\n",
              "        element.appendChild(docLink);\n",
              "      }\n",
              "    </script>\n",
              "  </div>\n",
              "\n",
              "\n",
              "<div id=\"df-582b0289-7128-46fb-9819-9e5072dc0241\">\n",
              "  <button class=\"colab-df-quickchart\" onclick=\"quickchart('df-582b0289-7128-46fb-9819-9e5072dc0241')\"\n",
              "            title=\"Suggest charts\"\n",
              "            style=\"display:none;\">\n",
              "\n",
              "<svg xmlns=\"http://www.w3.org/2000/svg\" height=\"24px\"viewBox=\"0 0 24 24\"\n",
              "     width=\"24px\">\n",
              "    <g>\n",
              "        <path d=\"M19 3H5c-1.1 0-2 .9-2 2v14c0 1.1.9 2 2 2h14c1.1 0 2-.9 2-2V5c0-1.1-.9-2-2-2zM9 17H7v-7h2v7zm4 0h-2V7h2v10zm4 0h-2v-4h2v4z\"/>\n",
              "    </g>\n",
              "</svg>\n",
              "  </button>\n",
              "\n",
              "<style>\n",
              "  .colab-df-quickchart {\n",
              "      --bg-color: #E8F0FE;\n",
              "      --fill-color: #1967D2;\n",
              "      --hover-bg-color: #E2EBFA;\n",
              "      --hover-fill-color: #174EA6;\n",
              "      --disabled-fill-color: #AAA;\n",
              "      --disabled-bg-color: #DDD;\n",
              "  }\n",
              "\n",
              "  [theme=dark] .colab-df-quickchart {\n",
              "      --bg-color: #3B4455;\n",
              "      --fill-color: #D2E3FC;\n",
              "      --hover-bg-color: #434B5C;\n",
              "      --hover-fill-color: #FFFFFF;\n",
              "      --disabled-bg-color: #3B4455;\n",
              "      --disabled-fill-color: #666;\n",
              "  }\n",
              "\n",
              "  .colab-df-quickchart {\n",
              "    background-color: var(--bg-color);\n",
              "    border: none;\n",
              "    border-radius: 50%;\n",
              "    cursor: pointer;\n",
              "    display: none;\n",
              "    fill: var(--fill-color);\n",
              "    height: 32px;\n",
              "    padding: 0;\n",
              "    width: 32px;\n",
              "  }\n",
              "\n",
              "  .colab-df-quickchart:hover {\n",
              "    background-color: var(--hover-bg-color);\n",
              "    box-shadow: 0 1px 2px rgba(60, 64, 67, 0.3), 0 1px 3px 1px rgba(60, 64, 67, 0.15);\n",
              "    fill: var(--button-hover-fill-color);\n",
              "  }\n",
              "\n",
              "  .colab-df-quickchart-complete:disabled,\n",
              "  .colab-df-quickchart-complete:disabled:hover {\n",
              "    background-color: var(--disabled-bg-color);\n",
              "    fill: var(--disabled-fill-color);\n",
              "    box-shadow: none;\n",
              "  }\n",
              "\n",
              "  .colab-df-spinner {\n",
              "    border: 2px solid var(--fill-color);\n",
              "    border-color: transparent;\n",
              "    border-bottom-color: var(--fill-color);\n",
              "    animation:\n",
              "      spin 1s steps(1) infinite;\n",
              "  }\n",
              "\n",
              "  @keyframes spin {\n",
              "    0% {\n",
              "      border-color: transparent;\n",
              "      border-bottom-color: var(--fill-color);\n",
              "      border-left-color: var(--fill-color);\n",
              "    }\n",
              "    20% {\n",
              "      border-color: transparent;\n",
              "      border-left-color: var(--fill-color);\n",
              "      border-top-color: var(--fill-color);\n",
              "    }\n",
              "    30% {\n",
              "      border-color: transparent;\n",
              "      border-left-color: var(--fill-color);\n",
              "      border-top-color: var(--fill-color);\n",
              "      border-right-color: var(--fill-color);\n",
              "    }\n",
              "    40% {\n",
              "      border-color: transparent;\n",
              "      border-right-color: var(--fill-color);\n",
              "      border-top-color: var(--fill-color);\n",
              "    }\n",
              "    60% {\n",
              "      border-color: transparent;\n",
              "      border-right-color: var(--fill-color);\n",
              "    }\n",
              "    80% {\n",
              "      border-color: transparent;\n",
              "      border-right-color: var(--fill-color);\n",
              "      border-bottom-color: var(--fill-color);\n",
              "    }\n",
              "    90% {\n",
              "      border-color: transparent;\n",
              "      border-bottom-color: var(--fill-color);\n",
              "    }\n",
              "  }\n",
              "</style>\n",
              "\n",
              "  <script>\n",
              "    async function quickchart(key) {\n",
              "      const quickchartButtonEl =\n",
              "        document.querySelector('#' + key + ' button');\n",
              "      quickchartButtonEl.disabled = true;  // To prevent multiple clicks.\n",
              "      quickchartButtonEl.classList.add('colab-df-spinner');\n",
              "      try {\n",
              "        const charts = await google.colab.kernel.invokeFunction(\n",
              "            'suggestCharts', [key], {});\n",
              "      } catch (error) {\n",
              "        console.error('Error during call to suggestCharts:', error);\n",
              "      }\n",
              "      quickchartButtonEl.classList.remove('colab-df-spinner');\n",
              "      quickchartButtonEl.classList.add('colab-df-quickchart-complete');\n",
              "    }\n",
              "    (() => {\n",
              "      let quickchartButtonEl =\n",
              "        document.querySelector('#df-582b0289-7128-46fb-9819-9e5072dc0241 button');\n",
              "      quickchartButtonEl.style.display =\n",
              "        google.colab.kernel.accessAllowed ? 'block' : 'none';\n",
              "    })();\n",
              "  </script>\n",
              "</div>\n",
              "\n",
              "    </div>\n",
              "  </div>\n"
            ],
            "application/vnd.google.colaboratory.intrinsic+json": {
              "type": "dataframe",
              "variable_name": "df"
            }
          },
          "metadata": {},
          "execution_count": 1
        }
      ]
    },
    {
      "cell_type": "code",
      "source": [
        "import pandas as pd\n",
        "\n",
        "# Replace '/path/to/your/file.xlsx' with the actual file path\n",
        "file_path = '/content/Biomass Gasification Dataset.xlsx'\n",
        "\n",
        "# Read the Excel file into a Pandas DataFrame\n",
        "df = pd.read_excel(file_path)\n",
        "\n",
        "# Print the first few rows of the DataFrame to verify\n",
        "print(df.head())"
      ],
      "metadata": {
        "colab": {
          "base_uri": "https://localhost:8080/"
        },
        "id": "1Bz_3h8wS2xE",
        "outputId": "dcae760b-b372-4551-df74-9369c3a3fa1c"
      },
      "execution_count": null,
      "outputs": [
        {
          "output_type": "stream",
          "name": "stdout",
          "text": [
            "          feed Type of Feed      C     H     N    S      O  ASH  \\\n",
            "0  Fruit Waste  Orange Peel  41.71  6.04  1.91  0.0  50.34  0.0   \n",
            "1  Fruit Waste  Orange Peel  41.71  6.04  1.91  0.0  50.34  0.0   \n",
            "2  Fruit Waste  Orange Peel  41.71  6.04  1.91  0.0  50.34  0.0   \n",
            "3  Fruit Waste  Orange Peel  41.71  6.04  1.91  0.0  50.34  0.0   \n",
            "4  Fruit Waste  Orange Peel  41.71  6.04  1.91  0.0  50.34  0.0   \n",
            "\n",
            "   C-H Aromatics   C-H  Alkanes  ...  Time    BC  Reactor  Catalyst Type  \\\n",
            "0               1             1  ...    30   5.0    Batch              0   \n",
            "1               1             1  ...    60   5.0    Batch              0   \n",
            "2               1             1  ...    30  15.0    Batch              0   \n",
            "3               1             1  ...    60  15.0    Batch              0   \n",
            "4               1             1  ...    45  10.0    Batch              0   \n",
            "\n",
            "   Catalyst Concentration  CO2 mole fraction  H2 mole fraction  \\\n",
            "0                     0.0              92.37              1.54   \n",
            "1                     0.0              93.00              2.49   \n",
            "2                     0.0              92.50              2.00   \n",
            "3                     0.0              95.27              1.09   \n",
            "4                     0.0              95.35              0.97   \n",
            "\n",
            "  Hydrogen selectivity CO mole fraction  CH4 mole fraction  \n",
            "0             1.564087             5.65               0.42  \n",
            "1             2.553584             4.18               0.33  \n",
            "2             2.040816             4.50               1.00  \n",
            "3             1.102012             2.62               1.00  \n",
            "4             0.979501             3.23               0.45  \n",
            "\n",
            "[5 rows x 25 columns]\n"
          ]
        }
      ]
    },
    {
      "cell_type": "markdown",
      "source": [
        "Number of rows and columns in the dataset."
      ],
      "metadata": {
        "id": "TCi5fvVBYCUJ"
      }
    },
    {
      "cell_type": "code",
      "source": [
        "# Get the number of rows and columns in the DataFrame\n",
        "num_rows, num_cols = df.shape\n",
        "\n",
        "# Print the results\n",
        "print(\"Number of rows:\", num_rows)\n",
        "print(\"Number of columns:\", num_cols)"
      ],
      "metadata": {
        "colab": {
          "base_uri": "https://localhost:8080/"
        },
        "id": "FjVGoY_STNaU",
        "outputId": "a9915217-23da-4f6a-ce52-717357183ad9"
      },
      "execution_count": null,
      "outputs": [
        {
          "output_type": "stream",
          "name": "stdout",
          "text": [
            "Number of rows: 244\n",
            "Number of columns: 25\n"
          ]
        }
      ]
    },
    {
      "cell_type": "markdown",
      "source": [
        "Identifying the types of data present, and which columns are numeric and which are categorical."
      ],
      "metadata": {
        "id": "v38pNIOBYb6K"
      }
    },
    {
      "cell_type": "code",
      "source": [
        "# Get the data types of each column\n",
        "data_types = df.dtypes\n",
        "\n",
        "# Print the results\n",
        "print(\"Data types:\\n\")\n",
        "print(data_types)\n",
        "\n",
        "# Identify numeric columns (integer and float)\n",
        "numeric_columns = df.select_dtypes(include=['int64', 'float64']).columns.tolist()\n",
        "\n",
        "# Identify categorical columns (object)\n",
        "categorical_columns = df.select_dtypes(include=['object']).columns.tolist()\n",
        "\n",
        "# Print the results\n",
        "print(\"\\nNumeric columns:\", numeric_columns)\n",
        "print(\"\\nCategorical columns:\", categorical_columns)"
      ],
      "metadata": {
        "colab": {
          "base_uri": "https://localhost:8080/"
        },
        "id": "vNRontoeTyA_",
        "outputId": "3cc5fd0d-5c80-4270-e124-f1d8e454cb14"
      },
      "execution_count": null,
      "outputs": [
        {
          "output_type": "stream",
          "name": "stdout",
          "text": [
            "Data types:\n",
            "\n",
            "feed                       object\n",
            "Type of Feed               object\n",
            "C                         float64\n",
            "H                         float64\n",
            "N                         float64\n",
            "S                         float64\n",
            "O                         float64\n",
            "ASH                       float64\n",
            "C-H Aromatics               int64\n",
            "C-H  Alkanes                int64\n",
            "C-O                         int64\n",
            "C=C                         int64\n",
            "C=O                         int64\n",
            "O-H                         int64\n",
            "Temp                        int64\n",
            "Time                        int64\n",
            "BC                        float64\n",
            "Catalyst Type              object\n",
            "Catalyst Concentration    float64\n",
            "CO2 mole fraction         float64\n",
            "H2 mole fraction          float64\n",
            "Hydrogen selectivity      float64\n",
            "CO mole fraction          float64\n",
            "CH4 mole fraction         float64\n",
            "C-to-H ratio              float64\n",
            "O-to-H ratio              float64\n",
            "dtype: object\n",
            "\n",
            "Numeric columns: ['C', 'H', 'N', 'S', 'O', 'ASH', 'C-H Aromatics ', 'C-H  Alkanes', 'C-O ', 'C=C ', 'C=O ', 'O-H ', 'Temp', 'Time', 'BC', 'Catalyst Concentration', 'CO2 mole fraction', 'H2 mole fraction', 'Hydrogen selectivity', 'CO mole fraction', 'CH4 mole fraction', 'C-to-H ratio', 'O-to-H ratio']\n",
            "\n",
            "Categorical columns: ['feed', 'Type of Feed', 'Catalyst Type']\n"
          ]
        }
      ]
    },
    {
      "cell_type": "markdown",
      "source": [
        "Checking for missing values. (result: there are none)"
      ],
      "metadata": {
        "id": "_QRY4CdrYtDG"
      }
    },
    {
      "cell_type": "code",
      "source": [
        "# Check for missing values\n",
        "missing_values = df.isnull().sum()\n",
        "\n",
        "# Display columns with missing data\n",
        "print(\"Columns with missing values:\\n\")\n",
        "print(missing_values[missing_values > 0])"
      ],
      "metadata": {
        "colab": {
          "base_uri": "https://localhost:8080/"
        },
        "id": "b1pXnClfVIr0",
        "outputId": "b73dead5-d61f-46c7-896e-ead03ab1657b"
      },
      "execution_count": null,
      "outputs": [
        {
          "output_type": "stream",
          "name": "stdout",
          "text": [
            "Columns with missing values:\n",
            "\n",
            "Series([], dtype: int64)\n"
          ]
        }
      ]
    },
    {
      "cell_type": "markdown",
      "source": [
        "The column representing the the types of biomass feed is column B \"Type of Feed\"."
      ],
      "metadata": {
        "id": "ncXOnReUWn2P"
      }
    },
    {
      "cell_type": "markdown",
      "source": [
        "Listing the types of feed present in the dataset (under the column \"feed\")."
      ],
      "metadata": {
        "id": "TT7dfV1-Y1hp"
      }
    },
    {
      "cell_type": "code",
      "source": [
        "# List unique feed types in Column A \"feed\"\n",
        "feed_types = df[\"feed\"].unique()\n",
        "\n",
        "# Print the unique feed types\n",
        "print(\"feed types:\")\n",
        "print(feed_types)"
      ],
      "metadata": {
        "colab": {
          "base_uri": "https://localhost:8080/"
        },
        "id": "jqplJHuiWy9l",
        "outputId": "d3960c32-e367-4328-8ba1-5e26b74e9548"
      },
      "execution_count": null,
      "outputs": [
        {
          "output_type": "stream",
          "name": "stdout",
          "text": [
            "feed types:\n",
            "['Fruit Waste' 'Plastic Waste' 'Agri. Residue'\n",
            " 'Residue of Biodisel Production' 'Microalgae residue fron Biodisel'\n",
            " 'Waste of Wood and Paper' 'Waste Water' 'Waste']\n"
          ]
        }
      ]
    },
    {
      "cell_type": "markdown",
      "source": [
        "Comparing the average chemical compositions of different feed types and displaying them for comparison."
      ],
      "metadata": {
        "id": "TFE5g1ebZDJH"
      }
    },
    {
      "cell_type": "code",
      "source": [
        "# Assuming your DataFrame is named 'df'\n",
        "grouped_data = df.groupby(\"feed\")\n",
        "mean_values = grouped_data[[\"C\", \"H\", \"N\", \"S\", \"O\", \"ASH\"]].mean()\n",
        "\n",
        "print(\"Mean composition for each feed type:\")\n",
        "print(mean_values)"
      ],
      "metadata": {
        "colab": {
          "base_uri": "https://localhost:8080/"
        },
        "id": "mOlLOuujup8c",
        "outputId": "dd4d3591-d02d-412b-f5c8-39d8e88fc508"
      },
      "execution_count": null,
      "outputs": [
        {
          "output_type": "stream",
          "name": "stdout",
          "text": [
            "Mean composition for each feed type:\n",
            "                                          C         H         N         S  \\\n",
            "feed                                                                        \n",
            "Agri. Residue                     44.100000  6.000000  0.400000  0.010000   \n",
            "Fruit Waste                       41.508846  6.031923  1.921923  0.005769   \n",
            "Microalgae residue fron Biodisel  54.533333  7.000000  9.466667  0.533333   \n",
            "Plastic Waste                     60.820000  4.220000  0.000000  0.000000   \n",
            "Residue of Biodisel Production    39.100000  8.700000  0.000000  0.000000   \n",
            "Waste                             41.200000  6.710000  1.470000  0.000000   \n",
            "Waste Water                       32.256897  4.999310  5.307241  0.022414   \n",
            "Waste of Wood and Paper           40.123250  4.911250  1.427500  1.644000   \n",
            "\n",
            "                                          O       ASH  \n",
            "feed                                                   \n",
            "Agri. Residue                     45.100000  0.000000  \n",
            "Fruit Waste                       50.531538  0.000000  \n",
            "Microalgae residue fron Biodisel  28.466667  0.000000  \n",
            "Plastic Waste                     31.240000  3.720000  \n",
            "Residue of Biodisel Production    52.200000  0.000000  \n",
            "Waste                             43.120000  4.100000  \n",
            "Waste Water                       46.379655  9.482759  \n",
            "Waste of Wood and Paper           51.894000  0.000000  \n"
          ]
        }
      ]
    },
    {
      "cell_type": "markdown",
      "source": [
        "Determining the temperature range used in the biomass gasification experiments."
      ],
      "metadata": {
        "id": "AeVMn_sCaZyk"
      }
    },
    {
      "cell_type": "code",
      "source": [
        "# Calculate the minimum, maximum, and average temperature values\n",
        "min_temp = df[\"Temp\"].min()\n",
        "max_temp = df[\"Temp\"].max()\n",
        "avg_temp = df[\"Temp\"].mean()\n",
        "\n",
        "# Print the results\n",
        "print(\"Minimum Temperature:\", min_temp)\n",
        "print(\"Maximum Temperature:\", max_temp)\n",
        "print(\"Average Temperature:\", avg_temp)"
      ],
      "metadata": {
        "colab": {
          "base_uri": "https://localhost:8080/"
        },
        "id": "YQTiYX1QabUn",
        "outputId": "4e6be5e3-ec9d-4fd0-afcc-2e98c3fa0a5e"
      },
      "execution_count": null,
      "outputs": [
        {
          "output_type": "stream",
          "name": "stdout",
          "text": [
            "Minimum Temperature: 80\n",
            "Maximum Temperature: 400\n",
            "Average Temperature: 369.36475409836066\n"
          ]
        }
      ]
    },
    {
      "cell_type": "markdown",
      "source": [
        "The column that is irrelevant to the task is Column R \"Reactor\" because all entries in the column are identical. It can be dropped so the code / machine has one less column to look at."
      ],
      "metadata": {
        "id": "rlW3ELexayEZ"
      }
    },
    {
      "cell_type": "code",
      "source": [
        "# Delete Column R \"Reactor\"\n",
        "df.drop(\"Reactor\", axis=1, inplace=True)\n",
        "\n",
        "# Check if the column has been deleted\n",
        "if \"Reactor\" not in df.columns:\n",
        "    print(\"Column 'Reactor' has been deleted successfully.\")\n",
        "else:\n",
        "    print(\"Column 'Reactor' still exists.\")"
      ],
      "metadata": {
        "colab": {
          "base_uri": "https://localhost:8080/"
        },
        "id": "sb9oTfdqbRi7",
        "outputId": "1e58de9a-8232-4ac8-bcd8-ee6d91837fce"
      },
      "execution_count": null,
      "outputs": [
        {
          "output_type": "stream",
          "name": "stdout",
          "text": [
            "Column 'Reactor' has been deleted successfully.\n"
          ]
        }
      ]
    },
    {
      "cell_type": "markdown",
      "source": [
        "Create a new column for the C-to-H ratios of each feed type"
      ],
      "metadata": {
        "id": "hbl9QExcamq7"
      }
    },
    {
      "cell_type": "code",
      "source": [
        "# Assuming your DataFrame is named 'df'\n",
        "df[\"C-to-H ratio\"] = df[\"C\"] / df[\"H\"]\n",
        "\n",
        "# Check if the new column has been added\n",
        "print(df.columns)"
      ],
      "metadata": {
        "colab": {
          "base_uri": "https://localhost:8080/"
        },
        "id": "SUvWrMHSwytG",
        "outputId": "2c318eb0-cff1-499b-8dd3-821476fec309"
      },
      "execution_count": null,
      "outputs": [
        {
          "output_type": "stream",
          "name": "stdout",
          "text": [
            "Index(['feed', 'Type of Feed', 'C', 'H', 'N', 'S', 'O', 'ASH',\n",
            "       'C-H Aromatics ', 'C-H  Alkanes', 'C-O ', 'C=C ', 'C=O ', 'O-H ',\n",
            "       'Temp', 'Time', 'BC', 'Catalyst Type', 'Catalyst Concentration',\n",
            "       'CO2 mole fraction', 'H2 mole fraction', 'Hydrogen selectivity',\n",
            "       'CO mole fraction', 'CH4 mole fraction', 'C-to-H ratio'],\n",
            "      dtype='object')\n"
          ]
        }
      ]
    },
    {
      "cell_type": "markdown",
      "source": [
        "Create a new column for the O-to-H ratios of each feed type"
      ],
      "metadata": {
        "id": "4-wTqEjXattE"
      }
    },
    {
      "cell_type": "code",
      "source": [
        "# Assuming your DataFrame is named 'df'\n",
        "df[\"O-to-H ratio\"] = df[\"O\"] / df[\"H\"]\n",
        "\n",
        "# Check if the new column has been added\n",
        "print(df.columns)"
      ],
      "metadata": {
        "colab": {
          "base_uri": "https://localhost:8080/"
        },
        "id": "Gi0xjKVmxBgm",
        "outputId": "2b93607e-e358-4e6b-f437-6ca73d30c24c"
      },
      "execution_count": null,
      "outputs": [
        {
          "output_type": "stream",
          "name": "stdout",
          "text": [
            "Index(['feed', 'Type of Feed', 'C', 'H', 'N', 'S', 'O', 'ASH',\n",
            "       'C-H Aromatics ', 'C-H  Alkanes', 'C-O ', 'C=C ', 'C=O ', 'O-H ',\n",
            "       'Temp', 'Time', 'BC', 'Catalyst Type', 'Catalyst Concentration',\n",
            "       'CO2 mole fraction', 'H2 mole fraction', 'Hydrogen selectivity',\n",
            "       'CO mole fraction', 'CH4 mole fraction', 'C-to-H ratio',\n",
            "       'O-to-H ratio'],\n",
            "      dtype='object')\n"
          ]
        }
      ]
    },
    {
      "cell_type": "markdown",
      "source": [
        "Ranges of the C-to-H ratios for different feeds"
      ],
      "metadata": {
        "id": "QTfTafyfa2XN"
      }
    },
    {
      "cell_type": "code",
      "source": [
        "# Assuming your DataFrame is named 'df'\n",
        "grouped_data = df.groupby(\"feed\")\n",
        "\n",
        "# Calculate minimum, maximum, and average values for each feed type\n",
        "min_ratio = grouped_data[\"C-to-H ratio\"].min()\n",
        "max_ratio = grouped_data[\"C-to-H ratio\"].max()\n",
        "avg_ratio = grouped_data[\"C-to-H ratio\"].mean()\n",
        "\n",
        "# Print the results\n",
        "print(\"Minimum C-to-H ratio for each feed type:\")\n",
        "print(min_ratio)\n",
        "\n",
        "print(\"Maximum C-to-H ratio for each feed type:\")\n",
        "print(max_ratio)\n",
        "\n",
        "print(\"Average C-to-H ratio for each feed type:\")\n",
        "print(avg_ratio)"
      ],
      "metadata": {
        "colab": {
          "base_uri": "https://localhost:8080/"
        },
        "id": "eC55W4QCx9eH",
        "outputId": "4d162c35-9ee7-4765-eb00-d5db2106d432"
      },
      "execution_count": null,
      "outputs": [
        {
          "output_type": "stream",
          "name": "stdout",
          "text": [
            "Minimum C-to-H ratio for each feed type:\n",
            "feed\n",
            "Agri. Residue                        7.350000\n",
            "Fruit Waste                          6.267007\n",
            "Microalgae residue fron Biodisel     7.352113\n",
            "Plastic Waste                       14.412322\n",
            "Residue of Biodisel Production       4.494253\n",
            "Waste                                6.140089\n",
            "Waste Water                          5.232598\n",
            "Waste of Wood and Paper              7.895904\n",
            "Name: C-to-H ratio, dtype: float64\n",
            "Maximum C-to-H ratio for each feed type:\n",
            "feed\n",
            "Agri. Residue                        7.350000\n",
            "Fruit Waste                          6.905629\n",
            "Microalgae residue fron Biodisel     8.523077\n",
            "Plastic Waste                       14.412322\n",
            "Residue of Biodisel Production       4.494253\n",
            "Waste                                6.140089\n",
            "Waste Water                          7.065708\n",
            "Waste of Wood and Paper              8.451306\n",
            "Name: C-to-H ratio, dtype: float64\n",
            "Average C-to-H ratio for each feed type:\n",
            "feed\n",
            "Agri. Residue                        7.350000\n",
            "Fruit Waste                          6.880908\n",
            "Microalgae residue fron Biodisel     7.814252\n",
            "Plastic Waste                       14.412322\n",
            "Residue of Biodisel Production       4.494253\n",
            "Waste                                6.140089\n",
            "Waste Water                          6.501943\n",
            "Waste of Wood and Paper              8.215261\n",
            "Name: C-to-H ratio, dtype: float64\n"
          ]
        }
      ]
    },
    {
      "cell_type": "markdown",
      "source": [
        "Ranges of the O-to-H ratios of different feeds"
      ],
      "metadata": {
        "id": "0iQElqqAa9-G"
      }
    },
    {
      "cell_type": "code",
      "source": [
        "# Assuming your DataFrame is named 'df'\n",
        "grouped_data = df.groupby(\"feed\")\n",
        "\n",
        "# Calculate minimum, maximum, and average values for each feed type\n",
        "min_ratio = grouped_data[\"O-to-H ratio\"].min()\n",
        "max_ratio = grouped_data[\"O-to-H ratio\"].max()\n",
        "avg_ratio = grouped_data[\"O-to-H ratio\"].mean()\n",
        "\n",
        "# Print the results\n",
        "print(\"Minimum O-to-H ratio for each feed type:\")\n",
        "print(min_ratio)\n",
        "\n",
        "print(\"Maximum O-to-H ratio for each feed type:\")\n",
        "print(max_ratio)\n",
        "\n",
        "print(\"Average O-to-H ratio for each feed type:\")\n",
        "print(avg_ratio)"
      ],
      "metadata": {
        "colab": {
          "base_uri": "https://localhost:8080/"
        },
        "id": "j9kf_TxFyK2w",
        "outputId": "4a0d5252-7183-4148-c0eb-bdd134aaea5d"
      },
      "execution_count": null,
      "outputs": [
        {
          "output_type": "stream",
          "name": "stdout",
          "text": [
            "Minimum O-to-H ratio for each feed type:\n",
            "feed\n",
            "Agri. Residue                       7.516667\n",
            "Fruit Waste                         8.334437\n",
            "Microalgae residue fron Biodisel    3.675676\n",
            "Plastic Waste                       7.402844\n",
            "Residue of Biodisel Production      6.000000\n",
            "Waste                               6.426230\n",
            "Waste Water                         5.176570\n",
            "Waste of Wood and Paper             7.764505\n",
            "Name: O-to-H ratio, dtype: float64\n",
            "Maximum O-to-H ratio for each feed type:\n",
            "feed\n",
            "Agri. Residue                        7.516667\n",
            "Fruit Waste                          9.326531\n",
            "Microalgae residue fron Biodisel     4.521127\n",
            "Plastic Waste                        7.402844\n",
            "Residue of Biodisel Production       6.000000\n",
            "Waste                                6.426230\n",
            "Waste Water                         10.975359\n",
            "Waste of Wood and Paper             13.448931\n",
            "Name: O-to-H ratio, dtype: float64\n",
            "Average O-to-H ratio for each feed type:\n",
            "feed\n",
            "Agri. Residue                        7.516667\n",
            "Fruit Waste                          8.378352\n",
            "Microalgae residue fron Biodisel     4.070729\n",
            "Plastic Waste                        7.402844\n",
            "Residue of Biodisel Production       6.000000\n",
            "Waste                                6.426230\n",
            "Waste Water                          9.478427\n",
            "Waste of Wood and Paper             11.033050\n",
            "Name: O-to-H ratio, dtype: float64\n"
          ]
        }
      ]
    },
    {
      "cell_type": "markdown",
      "source": [
        "applying one-hot encoding to the column \"Type of Feed\" to make it more suitable for machine learning."
      ],
      "metadata": {
        "id": "hNDr2tOybGVu"
      }
    },
    {
      "cell_type": "code",
      "source": [
        "# Assuming your DataFrame is named 'df'\n",
        "\n",
        "# Check if the column exists\n",
        "if \"Type of Feed\" in df.columns:\n",
        "    # Apply one-hot encoding if the column exists\n",
        "    df_encoded = pd.get_dummies(df, columns=[\"Type of Feed\"])\n",
        "else:\n",
        "    print(\"Error: 'Type of Feed' column not found.\")\n",
        "\n",
        "# Display the first few rows of the encoded dataset\n",
        "print(df_encoded.head())"
      ],
      "metadata": {
        "colab": {
          "base_uri": "https://localhost:8080/"
        },
        "id": "sOrwL1ZZ4RQe",
        "outputId": "15647c3f-55c9-48ae-efff-b38a1f50ee6c"
      },
      "execution_count": null,
      "outputs": [
        {
          "output_type": "stream",
          "name": "stdout",
          "text": [
            "          feed      C     H     N    S      O  ASH  C-H Aromatics   \\\n",
            "0  Fruit Waste  41.71  6.04  1.91  0.0  50.34  0.0               1   \n",
            "1  Fruit Waste  41.71  6.04  1.91  0.0  50.34  0.0               1   \n",
            "2  Fruit Waste  41.71  6.04  1.91  0.0  50.34  0.0               1   \n",
            "3  Fruit Waste  41.71  6.04  1.91  0.0  50.34  0.0               1   \n",
            "4  Fruit Waste  41.71  6.04  1.91  0.0  50.34  0.0               1   \n",
            "\n",
            "   C-H  Alkanes  C-O   ...  Type of Feed_Dunalila salina- CGLY 4%  \\\n",
            "0             1     1  ...                                  False   \n",
            "1             1     1  ...                                  False   \n",
            "2             1     1  ...                                  False   \n",
            "3             1     1  ...                                  False   \n",
            "4             1     1  ...                                  False   \n",
            "\n",
            "   Type of Feed_Dunalila salina- Dionized Water  \\\n",
            "0                                         False   \n",
            "1                                         False   \n",
            "2                                         False   \n",
            "3                                         False   \n",
            "4                                         False   \n",
            "\n",
            "   Type of Feed_Esperolina Plantis- CGLY 4%  \\\n",
            "0                                     False   \n",
            "1                                     False   \n",
            "2                                     False   \n",
            "3                                     False   \n",
            "4                                     False   \n",
            "\n",
            "   Type of Feed_Esperolina Plantis- Dionized Water  \\\n",
            "0                                            False   \n",
            "1                                            False   \n",
            "2                                            False   \n",
            "3                                            False   \n",
            "4                                            False   \n",
            "\n",
            "   Type of Feed_Food Waste(Kitchen)  Type of Feed_Orange Peel  \\\n",
            "0                             False                      True   \n",
            "1                             False                      True   \n",
            "2                             False                      True   \n",
            "3                             False                      True   \n",
            "4                             False                      True   \n",
            "\n",
            "  Type of Feed_PET  Type of Feed_Watermelon Peel  Type of Feed_Wood  \\\n",
            "0            False                         False              False   \n",
            "1            False                         False              False   \n",
            "2            False                         False              False   \n",
            "3            False                         False              False   \n",
            "4            False                         False              False   \n",
            "\n",
            "   Type of Feed_wheat straw  \n",
            "0                     False  \n",
            "1                     False  \n",
            "2                     False  \n",
            "3                     False  \n",
            "4                     False  \n",
            "\n",
            "[5 rows x 49 columns]\n"
          ]
        }
      ]
    },
    {
      "cell_type": "code",
      "source": [
        "# Get the number of rows and columns in the DataFrame\n",
        "num_rows, num_cols = df.shape\n",
        "\n",
        "# Print the results\n",
        "print(\"Number of rows:\", num_rows)\n",
        "print(\"Number of columns:\", num_cols)"
      ],
      "metadata": {
        "colab": {
          "base_uri": "https://localhost:8080/"
        },
        "outputId": "6351b986-86a8-4cf2-c45d-e1f4b0ca6fa8",
        "id": "DK1w3SK14skE"
      },
      "execution_count": null,
      "outputs": [
        {
          "output_type": "stream",
          "name": "stdout",
          "text": [
            "Number of rows: 244\n",
            "Number of columns: 26\n"
          ]
        }
      ]
    },
    {
      "cell_type": "markdown",
      "source": [
        "After one-hot encoding, about 23 new columns have been created for the \"Type of Feed\" variable"
      ],
      "metadata": {
        "id": "B1MLfho45BMk"
      }
    },
    {
      "cell_type": "markdown",
      "source": [
        "Examining the gas mole fractions for outliers in the data."
      ],
      "metadata": {
        "id": "5JgUI05Vbf1I"
      }
    },
    {
      "cell_type": "code",
      "source": [
        "import matplotlib.pyplot as plt\n",
        "\n",
        "# Assuming your DataFrame is named 'df'\n",
        "\n",
        "# Create a histogram\n",
        "plt.hist(df[\"CO2 mole fraction\"], bins=150)  # Adjust the number of bins as needed\n",
        "plt.xlabel(\"CO2 mole fraction\")\n",
        "plt.ylabel(\"Frequency\")\n",
        "plt.title(\"Histogram of CO2 mole fraction\")\n",
        "plt.show()"
      ],
      "metadata": {
        "colab": {
          "base_uri": "https://localhost:8080/",
          "height": 472
        },
        "id": "0ywCozl0-WIW",
        "outputId": "dfd97dbf-c70f-48bd-ff72-cd877bb8d8a0"
      },
      "execution_count": null,
      "outputs": [
        {
          "output_type": "display_data",
          "data": {
            "text/plain": [
              "<Figure size 640x480 with 1 Axes>"
            ],
            "image/png": "[encoded data removed]"
          },
          "metadata": {}
        }
      ]
    },
    {
      "cell_type": "code",
      "source": [
        "import matplotlib.pyplot as plt\n",
        "\n",
        "# Assuming your DataFrame is named 'df'\n",
        "\n",
        "# Create a histogram\n",
        "plt.hist(df[\"H2 mole fraction\"], bins=150)  # Adjust the number of bins as needed\n",
        "plt.xlabel(\"H2 mole fraction\")\n",
        "plt.ylabel(\"Frequency\")\n",
        "plt.title(\"Histogram of H2 mole fraction\")\n",
        "plt.show()"
      ],
      "metadata": {
        "colab": {
          "base_uri": "https://localhost:8080/",
          "height": 472
        },
        "outputId": "27f79ee3-a7b4-48ef-c895-7a3e698a8ca9",
        "id": "dUoC5jDX-n4M"
      },
      "execution_count": null,
      "outputs": [
        {
          "output_type": "display_data",
          "data": {
            "text/plain": [
              "<Figure size 640x480 with 1 Axes>"
            ],
            "image/png": "[encoded data removed]"
          },
          "metadata": {}
        }
      ]
    },
    {
      "cell_type": "code",
      "source": [
        "import matplotlib.pyplot as plt\n",
        "\n",
        "# Assuming your DataFrame is named 'df'\n",
        "\n",
        "# Create a histogram\n",
        "plt.hist(df[\"CO mole fraction\"], bins=150)  # Adjust the number of bins as needed\n",
        "plt.xlabel(\"CO mole fraction\")\n",
        "plt.ylabel(\"Frequency\")\n",
        "plt.title(\"Histogram of CO mole fraction\")\n",
        "plt.show()"
      ],
      "metadata": {
        "colab": {
          "base_uri": "https://localhost:8080/",
          "height": 472
        },
        "id": "JVqEfdfy_GMX",
        "outputId": "f1b1455f-5f83-4e39-91fd-09fd225893a4"
      },
      "execution_count": null,
      "outputs": [
        {
          "output_type": "display_data",
          "data": {
            "text/plain": [
              "<Figure size 640x480 with 1 Axes>"
            ],
            "image/png": "[encoded data removed]"
          },
          "metadata": {}
        }
      ]
    },
    {
      "cell_type": "code",
      "source": [
        "import pandas as pd\n",
        "\n",
        "# Assuming your DataFrame is named 'df'\n",
        "\n",
        "# Calculate statistics for each column and group the results\n",
        "stats = df[[\"CO2 mole fraction\", \"H2 mole fraction\", \"CO mole fraction\"]].describe().T\n",
        "\n",
        "# Print the results\n",
        "print(\"Statistics for each column:\")\n",
        "print(stats)"
      ],
      "metadata": {
        "colab": {
          "base_uri": "https://localhost:8080/"
        },
        "id": "ISww2qQ__40r",
        "outputId": "02dbd89a-ce39-4a28-8259-0ee8ce9b141b"
      },
      "execution_count": null,
      "outputs": [
        {
          "output_type": "stream",
          "name": "stdout",
          "text": [
            "Statistics for each column:\n",
            "                   count       mean        std   min     25%     50%      75%  \\\n",
            "CO2 mole fraction  244.0  60.397418  20.341010  5.00  45.245  58.025  77.0375   \n",
            "H2 mole fraction   244.0  22.881787  16.443818  0.00   7.460  21.155  35.3600   \n",
            "CO mole fraction   244.0  10.195082  11.261567  0.39   3.885   6.435  13.1900   \n",
            "\n",
            "                     max  \n",
            "CO2 mole fraction  96.01  \n",
            "H2 mole fraction   65.00  \n",
            "CO mole fraction   78.00  \n"
          ]
        }
      ]
    },
    {
      "cell_type": "markdown",
      "source": [
        "There are some high outliers in CO and H2, and some low outliers in CO2. They can be identified by Z-scoring and then dropped."
      ],
      "metadata": {
        "id": "yRzkkj3-fUPc"
      }
    },
    {
      "cell_type": "code",
      "source": [
        "import pandas as pd\n",
        "import numpy as np\n",
        "\n",
        "# Assuming your DataFrame is named 'df'\n",
        "\n",
        "# Calculate Z-scores for the \"CO mole fraction\" column\n",
        "z_scores = (df[\"CO mole fraction\"] - df[\"CO mole fraction\"].mean()) / df[\"CO mole fraction\"].std()\n",
        "\n",
        "# Set a threshold for identifying outliers (e.g., Z-score > 3)\n",
        "threshold = 2\n",
        "\n",
        "# Identify outlier indices\n",
        "outlier_indices = z_scores[(z_scores > threshold) | (z_scores < -threshold)].index\n",
        "\n",
        "# Remove outliers from the DataFrame\n",
        "df = df.drop(outlier_indices, axis=0)\n",
        "\n",
        "# Check if outliers were successfully removed\n",
        "print(\"Outliers removed:\", len(outlier_indices))\n",
        "print(\"New shape of the DataFrame:\", df.shape)"
      ],
      "metadata": {
        "colab": {
          "base_uri": "https://localhost:8080/"
        },
        "id": "AMJl888Cg0wF",
        "outputId": "7e0a80f2-0cf8-4593-aa9a-d0c336af3aa7"
      },
      "execution_count": null,
      "outputs": [
        {
          "output_type": "stream",
          "name": "stdout",
          "text": [
            "Outliers removed: 6\n",
            "New shape of the DataFrame: (238, 26)\n"
          ]
        }
      ]
    },
    {
      "cell_type": "code",
      "source": [
        "import pandas as pd\n",
        "import numpy as np\n",
        "\n",
        "# Assuming your DataFrame is named 'df'\n",
        "\n",
        "# Calculate Z-scores for the \"CO2 mole fraction\" column\n",
        "z_scores = (df[\"CO2 mole fraction\"] - df[\"CO2 mole fraction\"].mean()) / df[\"CO2 mole fraction\"].std()\n",
        "\n",
        "# Set a threshold for identifying outliers (e.g., Z-score > 3)\n",
        "threshold = 2\n",
        "\n",
        "# Identify outlier indices\n",
        "outlier_indices = z_scores[(z_scores > threshold) | (z_scores < -threshold)].index\n",
        "\n",
        "# Remove outliers from the DataFrame\n",
        "df = df.drop(outlier_indices, axis=0)\n",
        "\n",
        "# Check if outliers were successfully removed\n",
        "print(\"Outliers removed:\", len(outlier_indices))\n",
        "print(\"New shape of the DataFrame:\", df.shape)"
      ],
      "metadata": {
        "colab": {
          "base_uri": "https://localhost:8080/"
        },
        "outputId": "b21f1c6f-e134-4dc0-be61-e200bffbd48a",
        "id": "U5Xv-cp3kL62"
      },
      "execution_count": null,
      "outputs": [
        {
          "output_type": "stream",
          "name": "stdout",
          "text": [
            "Outliers removed: 1\n",
            "New shape of the DataFrame: (237, 26)\n"
          ]
        }
      ]
    },
    {
      "cell_type": "code",
      "source": [
        "import pandas as pd\n",
        "import numpy as np\n",
        "\n",
        "# Assuming your DataFrame is named 'df'\n",
        "\n",
        "# Calculate Z-scores for the \"H2 mole fraction\" column\n",
        "z_scores = (df[\"H2 mole fraction\"] - df[\"H2 mole fraction\"].mean()) / df[\"H2 mole fraction\"].std()\n",
        "\n",
        "# Set a threshold for identifying outliers (e.g., Z-score > 3)\n",
        "threshold = 2\n",
        "\n",
        "# Identify outlier indices\n",
        "outlier_indices = z_scores[(z_scores > threshold) | (z_scores < -threshold)].index\n",
        "\n",
        "# Remove outliers from the DataFrame\n",
        "df = df.drop(outlier_indices, axis=0)\n",
        "\n",
        "# Check if outliers were successfully removed\n",
        "print(\"Outliers removed:\", len(outlier_indices))\n",
        "print(\"New shape of the DataFrame:\", df.shape)"
      ],
      "metadata": {
        "colab": {
          "base_uri": "https://localhost:8080/"
        },
        "outputId": "6e441aa8-6dbe-498d-e97c-18b8e48128b0",
        "id": "0H2mJePAkUpX"
      },
      "execution_count": null,
      "outputs": [
        {
          "output_type": "stream",
          "name": "stdout",
          "text": [
            "Outliers removed: 8\n",
            "New shape of the DataFrame: (229, 26)\n"
          ]
        }
      ]
    },
    {
      "cell_type": "markdown",
      "source": [
        "Plot a histogram for the temperature. The distribution indicates that the gasification is most effective at temperatures upwards of 300 degrees (temperature scale not given)."
      ],
      "metadata": {
        "id": "PYOuvvJqigve"
      }
    },
    {
      "cell_type": "code",
      "source": [
        "import matplotlib.pyplot as plt\n",
        "\n",
        "# Assuming your DataFrame is named 'df'\n",
        "\n",
        "# Create a histogram\n",
        "plt.hist(df[\"Temp\"], bins=10)  # Adjust the number of bins as needed\n",
        "plt.xlabel(\"Temp\")\n",
        "plt.ylabel(\"Frequency\")\n",
        "plt.title(\"Histogram of Temp\")\n",
        "plt.show()"
      ],
      "metadata": {
        "colab": {
          "base_uri": "https://localhost:8080/",
          "height": 472
        },
        "id": "7DPkU2ZGic0u",
        "outputId": "2a97d7bc-ddcf-43af-dc72-1af87230bcd6"
      },
      "execution_count": null,
      "outputs": [
        {
          "output_type": "display_data",
          "data": {
            "text/plain": [
              "<Figure size 640x480 with 1 Axes>"
            ],
            "image/png": "[encoded data removed]"
          },
          "metadata": {}
        }
      ]
    },
    {
      "cell_type": "markdown",
      "source": [
        "Investigate the correlation between temperature and the CO2 mole fraction: The correlation coefficient ~ -0.316 indicates a somewhat negative correlation. Lower values of CO2 mole fraction appear more frequently at the high end of experiment temperatues (400 degrees)."
      ],
      "metadata": {
        "id": "Y6ED8s-Nj6_b"
      }
    },
    {
      "cell_type": "code",
      "source": [
        "import pandas as pd\n",
        "import seaborn as sns\n",
        "import matplotlib.pyplot as plt\n",
        "\n",
        "# Assuming your DataFrame is named 'df'\n",
        "\n",
        "# Calculate the correlation coefficient\n",
        "correlation = df[\"Temp\"].corr(df[\"CO2 mole fraction\"])\n",
        "\n",
        "# Print the correlation coefficient\n",
        "print(\"Correlation between Temp and CO2 mole fraction:\", correlation)\n",
        "\n",
        "# Create a scatter plot to visualize the relationship\n",
        "sns.scatterplot(x=\"Temp\", y=\"CO2 mole fraction\", data=df)\n",
        "plt.title(\"Scatter Plot of Temp vs. CO2 mole fraction\")\n",
        "plt.xlabel(\"Temp\")\n",
        "plt.ylabel(\"CO2 mole fraction\")\n",
        "plt.show()"
      ],
      "metadata": {
        "colab": {
          "base_uri": "https://localhost:8080/",
          "height": 489
        },
        "id": "FEpEelKhlUmf",
        "outputId": "7aeae2aa-e0e5-4ae2-89ff-ae77a06a9def"
      },
      "execution_count": null,
      "outputs": [
        {
          "output_type": "stream",
          "name": "stdout",
          "text": [
            "Correlation between Temp and CO2 mole fraction: -0.31631684171953145\n"
          ]
        },
        {
          "output_type": "display_data",
          "data": {
            "text/plain": [
              "<Figure size 640x480 with 1 Axes>"
            ],
            "image/png": "[encoded data removed]"
          },
          "metadata": {}
        }
      ]
    },
    {
      "cell_type": "markdown",
      "source": [
        "Visualize the relationship between carbon content in the feed and hydrogen selectivity. Hydrogen selectivity consistently is below 80, and the only exception to this appearing within the range carbon content of ~35-40 (note: these points appear ALONG WITH the hydrogen selectvity values below 80 in this same carbon content range, NOT in place of them)."
      ],
      "metadata": {
        "id": "7zY1rHqSmh27"
      }
    },
    {
      "cell_type": "code",
      "source": [
        "import matplotlib.pyplot as plt\n",
        "\n",
        "# Assuming your DataFrame is named 'df'\n",
        "\n",
        "# Create a scatter plot\n",
        "plt.scatter(df[\"C\"], df[\"Hydrogen selectivity\"])\n",
        "plt.xlabel(\"C\")\n",
        "plt.ylabel(\"Hydrogen selectivity\")\n",
        "plt.title(\"Relationship between C and Hydrogen Selectivity\")\n",
        "plt.show()"
      ],
      "metadata": {
        "colab": {
          "base_uri": "https://localhost:8080/",
          "height": 472
        },
        "id": "tvRo5hbsmq_m",
        "outputId": "49999e79-9765-4c0f-f9a2-3f8c223cd332"
      },
      "execution_count": null,
      "outputs": [
        {
          "output_type": "display_data",
          "data": {
            "text/plain": [
              "<Figure size 640x480 with 1 Axes>"
            ],
            "image/png": "[encoded data removed]"
          },
          "metadata": {}
        }
      ]
    },
    {
      "cell_type": "markdown",
      "source": [
        "Plot the CO mole fraction versus the H2  mole fraction. Based on the scatter plot, higher CO levels do not correspond to lower hydrogen levels."
      ],
      "metadata": {
        "id": "4xUD4OtOoQSr"
      }
    },
    {
      "cell_type": "code",
      "source": [
        "import matplotlib.pyplot as plt\n",
        "\n",
        "# Assuming your DataFrame is named 'df'\n",
        "\n",
        "# Create a scatter plot\n",
        "plt.scatter(df[\"H2 mole fraction\"], df[\"CO mole fraction\"])\n",
        "plt.xlabel(\"H2 mole fraction\")\n",
        "plt.ylabel(\"CO mole fraction\")\n",
        "plt.title(\"Relationship between H2 mole fraction and CO mole fraction\")\n",
        "plt.show()"
      ],
      "metadata": {
        "colab": {
          "base_uri": "https://localhost:8080/",
          "height": 472
        },
        "id": "yR1k6hVkoV4L",
        "outputId": "8e06c7ab-38e8-4443-d3d9-0634a91087c6"
      },
      "execution_count": null,
      "outputs": [
        {
          "output_type": "display_data",
          "data": {
            "text/plain": [
              "<Figure size 640x480 with 1 Axes>"
            ],
            "image/png": "[encoded data removed]"
          },
          "metadata": {}
        }
      ]
    },
    {
      "cell_type": "markdown",
      "source": [
        "Split the dataset into features (X) and target variables (Y). The Y variables are \"CO2 mole fraction\", \"H2 mole fraction\", \"Hydrogen selectivity\", \"CO mole fraction\", and \"CH4 mole fraction\"."
      ],
      "metadata": {
        "id": "yHav8usdqet6"
      }
    },
    {
      "cell_type": "code",
      "source": [
        "import pandas as pd\n",
        "\n",
        "# Assuming your DataFrame is named 'df'\n",
        "\n",
        "# Define the target variables\n",
        "target_cols = [\"CO2 mole fraction\", \"H2 mole fraction\", \"Hydrogen selectivity\", \"CO mole fraction\", \"CH4 mole fraction\"]\n",
        "\n",
        "# Split the DataFrame into features (X) and target variables (Y)\n",
        "X = df.drop(target_cols, axis=1)\n",
        "Y = df[target_cols]\n",
        "\n",
        "print(\"Features (X):\")\n",
        "print(X.head())\n",
        "\n",
        "print(\"Target variables (Y):\")\n",
        "print(Y.head())"
      ],
      "metadata": {
        "colab": {
          "base_uri": "https://localhost:8080/"
        },
        "id": "EqpDq1eZraKH",
        "outputId": "6c447abd-08c6-4aa6-9496-69d146047d37"
      },
      "execution_count": null,
      "outputs": [
        {
          "output_type": "stream",
          "name": "stdout",
          "text": [
            "Features (X):\n",
            "          feed Type of Feed      C     H     N    S      O  ASH  \\\n",
            "0  Fruit Waste  Orange Peel  41.71  6.04  1.91  0.0  50.34  0.0   \n",
            "1  Fruit Waste  Orange Peel  41.71  6.04  1.91  0.0  50.34  0.0   \n",
            "2  Fruit Waste  Orange Peel  41.71  6.04  1.91  0.0  50.34  0.0   \n",
            "3  Fruit Waste  Orange Peel  41.71  6.04  1.91  0.0  50.34  0.0   \n",
            "4  Fruit Waste  Orange Peel  41.71  6.04  1.91  0.0  50.34  0.0   \n",
            "\n",
            "   C-H Aromatics   C-H  Alkanes  ...  C=C   C=O   O-H   Temp  Time    BC  \\\n",
            "0               1             1  ...     1     1     1   350    30   5.0   \n",
            "1               1             1  ...     1     1     1   350    60   5.0   \n",
            "2               1             1  ...     1     1     1   350    30  15.0   \n",
            "3               1             1  ...     1     1     1   350    60  15.0   \n",
            "4               1             1  ...     1     1     1   350    45  10.0   \n",
            "\n",
            "   Catalyst Type Catalyst Concentration  C-to-H ratio  O-to-H ratio  \n",
            "0              0                    0.0      6.905629      8.334437  \n",
            "1              0                    0.0      6.905629      8.334437  \n",
            "2              0                    0.0      6.905629      8.334437  \n",
            "3              0                    0.0      6.905629      8.334437  \n",
            "4              0                    0.0      6.905629      8.334437  \n",
            "\n",
            "[5 rows x 21 columns]\n",
            "Target variables (Y):\n",
            "   CO2 mole fraction  H2 mole fraction  Hydrogen selectivity  \\\n",
            "0              92.37              1.54              1.564087   \n",
            "1              93.00              2.49              2.553584   \n",
            "2              92.50              2.00              2.040816   \n",
            "3              95.27              1.09              1.102012   \n",
            "4              95.35              0.97              0.979501   \n",
            "\n",
            "   CO mole fraction  CH4 mole fraction  \n",
            "0              5.65               0.42  \n",
            "1              4.18               0.33  \n",
            "2              4.50               1.00  \n",
            "3              2.62               1.00  \n",
            "4              3.23               0.45  \n"
          ]
        }
      ]
    }
  ]
}